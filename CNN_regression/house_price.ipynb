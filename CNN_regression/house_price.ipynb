{
 "cells": [
  {
   "cell_type": "code",
   "execution_count": 1,
   "id": "ef8ddf1e",
   "metadata": {},
   "outputs": [],
   "source": [
    "import os\n",
    "import numpy as np\n",
    "import pandas as pd\n",
    "import cv2\n",
    "from tensorflow.keras.models import Model\n",
    "from tensorflow.keras.optimizers import Adam\n",
    "from sklearn.preprocessing import MinMaxScaler\n",
    "from sklearn.metrics import mean_absolute_error\n",
    "from tensorflow.keras.callbacks import EarlyStopping\n",
    "from sklearn.model_selection import train_test_split\n",
    "from tensorflow.keras.applications import ResNet50\n",
    "from tensorflow.keras.layers import Input, Dense, GlobalAveragePooling2D, Concatenate, Dropout, BatchNormalization"
   ]
  },
  {
   "cell_type": "code",
   "execution_count": 2,
   "id": "2adbcbab",
   "metadata": {},
   "outputs": [],
   "source": [
    "IMAGE_DIR = \"houses_dataset/houses_dataset\"\n",
    "TEXT_FILE = \"houses_dataset/HousesInfo.txt\""
   ]
  },
  {
   "cell_type": "code",
   "execution_count": 3,
   "id": "f2770cbf",
   "metadata": {},
   "outputs": [
    {
     "data": {
      "application/vnd.microsoft.datawrangler.viewer.v0+json": {
       "columns": [
        {
         "name": "index",
         "rawType": "int64",
         "type": "integer"
        },
        {
         "name": "bedrooms",
         "rawType": "int64",
         "type": "integer"
        },
        {
         "name": "bathrooms",
         "rawType": "float64",
         "type": "float"
        },
        {
         "name": "area",
         "rawType": "int64",
         "type": "integer"
        },
        {
         "name": "zipcode",
         "rawType": "int64",
         "type": "integer"
        },
        {
         "name": "price",
         "rawType": "int64",
         "type": "integer"
        }
       ],
       "ref": "55fd7f47-8784-41f7-8a5b-3d4af1e5bb7e",
       "rows": [
        [
         "0",
         "4",
         "4.0",
         "4053",
         "85255",
         "869500"
        ],
        [
         "1",
         "4",
         "3.0",
         "3343",
         "36372",
         "865200"
        ],
        [
         "2",
         "3",
         "4.0",
         "3923",
         "85266",
         "889000"
        ],
        [
         "3",
         "5",
         "5.0",
         "4022",
         "85262",
         "910000"
        ],
        [
         "4",
         "3",
         "4.0",
         "4116",
         "85266",
         "971226"
        ]
       ],
       "shape": {
        "columns": 5,
        "rows": 5
       }
      },
      "text/html": [
       "<div>\n",
       "<style scoped>\n",
       "    .dataframe tbody tr th:only-of-type {\n",
       "        vertical-align: middle;\n",
       "    }\n",
       "\n",
       "    .dataframe tbody tr th {\n",
       "        vertical-align: top;\n",
       "    }\n",
       "\n",
       "    .dataframe thead th {\n",
       "        text-align: right;\n",
       "    }\n",
       "</style>\n",
       "<table border=\"1\" class=\"dataframe\">\n",
       "  <thead>\n",
       "    <tr style=\"text-align: right;\">\n",
       "      <th></th>\n",
       "      <th>bedrooms</th>\n",
       "      <th>bathrooms</th>\n",
       "      <th>area</th>\n",
       "      <th>zipcode</th>\n",
       "      <th>price</th>\n",
       "    </tr>\n",
       "  </thead>\n",
       "  <tbody>\n",
       "    <tr>\n",
       "      <th>0</th>\n",
       "      <td>4</td>\n",
       "      <td>4.0</td>\n",
       "      <td>4053</td>\n",
       "      <td>85255</td>\n",
       "      <td>869500</td>\n",
       "    </tr>\n",
       "    <tr>\n",
       "      <th>1</th>\n",
       "      <td>4</td>\n",
       "      <td>3.0</td>\n",
       "      <td>3343</td>\n",
       "      <td>36372</td>\n",
       "      <td>865200</td>\n",
       "    </tr>\n",
       "    <tr>\n",
       "      <th>2</th>\n",
       "      <td>3</td>\n",
       "      <td>4.0</td>\n",
       "      <td>3923</td>\n",
       "      <td>85266</td>\n",
       "      <td>889000</td>\n",
       "    </tr>\n",
       "    <tr>\n",
       "      <th>3</th>\n",
       "      <td>5</td>\n",
       "      <td>5.0</td>\n",
       "      <td>4022</td>\n",
       "      <td>85262</td>\n",
       "      <td>910000</td>\n",
       "    </tr>\n",
       "    <tr>\n",
       "      <th>4</th>\n",
       "      <td>3</td>\n",
       "      <td>4.0</td>\n",
       "      <td>4116</td>\n",
       "      <td>85266</td>\n",
       "      <td>971226</td>\n",
       "    </tr>\n",
       "  </tbody>\n",
       "</table>\n",
       "</div>"
      ],
      "text/plain": [
       "   bedrooms  bathrooms  area  zipcode   price\n",
       "0         4        4.0  4053    85255  869500\n",
       "1         4        3.0  3343    36372  865200\n",
       "2         3        4.0  3923    85266  889000\n",
       "3         5        5.0  4022    85262  910000\n",
       "4         3        4.0  4116    85266  971226"
      ]
     },
     "execution_count": 3,
     "metadata": {},
     "output_type": "execute_result"
    }
   ],
   "source": [
    "columns = [\"bedrooms\", \"bathrooms\", \"area\", \"zipcode\", \"price\"]\n",
    "data = pd.read_csv(TEXT_FILE, sep=\" \", names=columns)\n",
    "\n",
    "X_table = data[[\"bedrooms\", \"bathrooms\", \"area\", \"zipcode\"]].values\n",
    "y = data[\"price\"].values\n",
    "\n",
    "scaler = MinMaxScaler()\n",
    "X_table = scaler.fit_transform(X_table)\n",
    "\n",
    "data.head()"
   ]
  },
  {
   "cell_type": "code",
   "execution_count": 4,
   "id": "55993806",
   "metadata": {},
   "outputs": [
    {
     "name": "stdout",
     "output_type": "stream",
     "text": [
      "Image shape: (535, 64, 256, 3)\n",
      "Tabular shape: (535, 4)\n"
     ]
    }
   ],
   "source": [
    "def load_images(image_dir, n_samples, img_size=(128,128)):\n",
    "    images = []\n",
    "    for i in range(1, n_samples+1):\n",
    "        house_images = []\n",
    "        for room in [\"frontal\", \"bedroom\", \"bathroom\", \"kitchen\"]:\n",
    "            filename = os.path.join(image_dir, f\"{i}_{room}.jpg\")\n",
    "            if os.path.exists(filename):\n",
    "                img = cv2.imread(filename)\n",
    "                img = cv2.resize(img, img_size)\n",
    "                house_images.append(img)\n",
    "        if len(house_images) == 4:\n",
    "            merged = np.concatenate(house_images, axis=1)\n",
    "            images.append(merged)\n",
    "    return np.array(images)\n",
    "\n",
    "X_image = load_images(IMAGE_DIR, len(data), img_size=(64,64))\n",
    "X_image = X_image / 255.0\n",
    "\n",
    "print(\"Image shape:\", X_image.shape)\n",
    "print(\"Tabular shape:\", X_table.shape)"
   ]
  },
  {
   "cell_type": "code",
   "execution_count": 5,
   "id": "103818cc",
   "metadata": {},
   "outputs": [],
   "source": [
    "X_image_train, X_image_test, X_table_train, X_table_test, y_train, y_test = train_test_split(X_image, X_table, y,\n",
    "                                                                                             test_size=0.2, random_state=42)"
   ]
  },
  {
   "cell_type": "code",
   "execution_count": 7,
   "id": "ffcfc2df",
   "metadata": {},
   "outputs": [],
   "source": [
    "image_input = Input(shape=(64, 256, 3))\n",
    "cnn_base = ResNet50(include_top=False, input_tensor=image_input, weights=\"imagenet\")\n",
    "cnn_base.trainable = False\n",
    "\n",
    "x = GlobalAveragePooling2D()(cnn_base.output)\n",
    "x = Dense(256, activation='relu')(x)\n",
    "x = Dropout(0.5)(x)\n",
    "x = Dense(128, activation='relu')(x)\n",
    "x = Dropout(0.3)(x)\n",
    "\n",
    "table_input = Input(shape=(4,))\n",
    "y = Dense(64, activation='relu')(table_input)\n",
    "y = BatchNormalization()(y)\n",
    "y = Dropout(0.3)(y)\n",
    "y = Dense(32, activation='relu')(y)\n",
    "\n",
    "combined = Concatenate()([x, y])\n",
    "z = Dense(128, activation='relu')(combined)\n",
    "z = Dropout(0.3)(z)\n",
    "z = Dense(1, activation='linear')(z)\n",
    "\n",
    "model = Model(inputs=[image_input, table_input], outputs=z)"
   ]
  },
  {
   "cell_type": "code",
   "execution_count": 8,
   "id": "0c094487",
   "metadata": {},
   "outputs": [],
   "source": [
    "model.compile(optimizer=Adam(1e-1), loss=\"mse\", metrics=[\"mae\"])"
   ]
  },
  {
   "cell_type": "code",
   "execution_count": 9,
   "id": "139450d9",
   "metadata": {},
   "outputs": [],
   "source": [
    "callbacks = [EarlyStopping(monitor=\"val_mae\", patience=10, restore_best_weights=True, verbose=1)]"
   ]
  },
  {
   "cell_type": "code",
   "execution_count": 10,
   "id": "ff1e4102",
   "metadata": {},
   "outputs": [
    {
     "name": "stdout",
     "output_type": "stream",
     "text": [
      "Epoch 1/100\n",
      "\u001b[1m14/14\u001b[0m \u001b[32m━━━━━━━━━━━━━━━━━━━━\u001b[0m\u001b[37m\u001b[0m \u001b[1m16s\u001b[0m 781ms/step - loss: 462552956928.0000 - mae: 478680.1562 - val_loss: 233815244800.0000 - val_mae: 358139.4375\n",
      "Epoch 2/100\n",
      "\u001b[1m14/14\u001b[0m \u001b[32m━━━━━━━━━━━━━━━━━━━━\u001b[0m\u001b[37m\u001b[0m \u001b[1m9s\u001b[0m 640ms/step - loss: 329857794048.0000 - mae: 382617.7188 - val_loss: 160036274176.0000 - val_mae: 287081.2188\n",
      "Epoch 3/100\n",
      "\u001b[1m14/14\u001b[0m \u001b[32m━━━━━━━━━━━━━━━━━━━━\u001b[0m\u001b[37m\u001b[0m \u001b[1m9s\u001b[0m 616ms/step - loss: 242234277888.0000 - mae: 299694.1562 - val_loss: 214912860160.0000 - val_mae: 420288.1250\n",
      "Epoch 4/100\n",
      "\u001b[1m14/14\u001b[0m \u001b[32m━━━━━━━━━━━━━━━━━━━━\u001b[0m\u001b[37m\u001b[0m \u001b[1m7s\u001b[0m 532ms/step - loss: 229825085440.0000 - mae: 288873.5625 - val_loss: 156144959488.0000 - val_mae: 349855.0625\n",
      "Epoch 5/100\n",
      "\u001b[1m14/14\u001b[0m \u001b[32m━━━━━━━━━━━━━━━━━━━━\u001b[0m\u001b[37m\u001b[0m \u001b[1m7s\u001b[0m 535ms/step - loss: 229340872704.0000 - mae: 292526.9062 - val_loss: 129218404352.0000 - val_mae: 312247.0312\n",
      "Epoch 6/100\n",
      "\u001b[1m14/14\u001b[0m \u001b[32m━━━━━━━━━━━━━━━━━━━━\u001b[0m\u001b[37m\u001b[0m \u001b[1m7s\u001b[0m 523ms/step - loss: 223609405440.0000 - mae: 277513.7500 - val_loss: 146647154688.0000 - val_mae: 337379.0000\n",
      "Epoch 7/100\n",
      "\u001b[1m14/14\u001b[0m \u001b[32m━━━━━━━━━━━━━━━━━━━━\u001b[0m\u001b[37m\u001b[0m \u001b[1m7s\u001b[0m 522ms/step - loss: 205772865536.0000 - mae: 285112.0000 - val_loss: 113928929280.0000 - val_mae: 290787.6250\n",
      "Epoch 8/100\n",
      "\u001b[1m14/14\u001b[0m \u001b[32m━━━━━━━━━━━━━━━━━━━━\u001b[0m\u001b[37m\u001b[0m \u001b[1m8s\u001b[0m 550ms/step - loss: 213142978560.0000 - mae: 269965.2812 - val_loss: 94977826816.0000 - val_mae: 233396.4844\n",
      "Epoch 9/100\n",
      "\u001b[1m14/14\u001b[0m \u001b[32m━━━━━━━━━━━━━━━━━━━━\u001b[0m\u001b[37m\u001b[0m \u001b[1m8s\u001b[0m 550ms/step - loss: 211473137664.0000 - mae: 277365.2812 - val_loss: 99823534080.0000 - val_mae: 214150.5781\n",
      "Epoch 10/100\n",
      "\u001b[1m14/14\u001b[0m \u001b[32m━━━━━━━━━━━━━━━━━━━━\u001b[0m\u001b[37m\u001b[0m \u001b[1m7s\u001b[0m 498ms/step - loss: 235281268736.0000 - mae: 284907.9062 - val_loss: 105509224448.0000 - val_mae: 271865.5000\n",
      "Epoch 11/100\n",
      "\u001b[1m14/14\u001b[0m \u001b[32m━━━━━━━━━━━━━━━━━━━━\u001b[0m\u001b[37m\u001b[0m \u001b[1m7s\u001b[0m 488ms/step - loss: 221588963328.0000 - mae: 272610.1875 - val_loss: 133938642944.0000 - val_mae: 323290.6250\n",
      "Epoch 12/100\n",
      "\u001b[1m14/14\u001b[0m \u001b[32m━━━━━━━━━━━━━━━━━━━━\u001b[0m\u001b[37m\u001b[0m \u001b[1m7s\u001b[0m 514ms/step - loss: 225629257728.0000 - mae: 281409.3438 - val_loss: 89155764224.0000 - val_mae: 238256.7656\n",
      "Epoch 13/100\n",
      "\u001b[1m14/14\u001b[0m \u001b[32m━━━━━━━━━━━━━━━━━━━━\u001b[0m\u001b[37m\u001b[0m \u001b[1m7s\u001b[0m 519ms/step - loss: 233594650624.0000 - mae: 299623.8125 - val_loss: 126409768960.0000 - val_mae: 238529.5938\n",
      "Epoch 14/100\n",
      "\u001b[1m14/14\u001b[0m \u001b[32m━━━━━━━━━━━━━━━━━━━━\u001b[0m\u001b[37m\u001b[0m \u001b[1m9s\u001b[0m 639ms/step - loss: 275260964864.0000 - mae: 334793.9688 - val_loss: 81113800704.0000 - val_mae: 221863.2188\n",
      "Epoch 15/100\n",
      "\u001b[1m14/14\u001b[0m \u001b[32m━━━━━━━━━━━━━━━━━━━━\u001b[0m\u001b[37m\u001b[0m \u001b[1m9s\u001b[0m 636ms/step - loss: 236659474432.0000 - mae: 282186.2500 - val_loss: 207711436800.0000 - val_mae: 400078.4375\n",
      "Epoch 16/100\n",
      "\u001b[1m14/14\u001b[0m \u001b[32m━━━━━━━━━━━━━━━━━━━━\u001b[0m\u001b[37m\u001b[0m \u001b[1m7s\u001b[0m 506ms/step - loss: 223091228672.0000 - mae: 283495.3125 - val_loss: 82812747776.0000 - val_mae: 225321.2656\n",
      "Epoch 17/100\n",
      "\u001b[1m14/14\u001b[0m \u001b[32m━━━━━━━━━━━━━━━━━━━━\u001b[0m\u001b[37m\u001b[0m \u001b[1m7s\u001b[0m 477ms/step - loss: 218508558336.0000 - mae: 282015.9688 - val_loss: 89548578816.0000 - val_mae: 247882.5156\n",
      "Epoch 18/100\n",
      "\u001b[1m14/14\u001b[0m \u001b[32m━━━━━━━━━━━━━━━━━━━━\u001b[0m\u001b[37m\u001b[0m \u001b[1m7s\u001b[0m 479ms/step - loss: 209698291712.0000 - mae: 268769.0625 - val_loss: 161153433600.0000 - val_mae: 353151.6875\n",
      "Epoch 19/100\n",
      "\u001b[1m14/14\u001b[0m \u001b[32m━━━━━━━━━━━━━━━━━━━━\u001b[0m\u001b[37m\u001b[0m \u001b[1m7s\u001b[0m 478ms/step - loss: 219173470208.0000 - mae: 277763.6875 - val_loss: 215328047104.0000 - val_mae: 404801.8750\n",
      "Epoch 19: early stopping\n",
      "Restoring model weights from the end of the best epoch: 9.\n"
     ]
    }
   ],
   "source": [
    "history = model.fit(\n",
    "    [X_image_train, X_table_train], y_train,\n",
    "    validation_data=([X_image_test, X_table_test], y_test),\n",
    "    epochs=100,\n",
    "    batch_size=32,\n",
    "    callbacks=callbacks)"
   ]
  },
  {
   "cell_type": "code",
   "execution_count": 11,
   "id": "705ee8fc",
   "metadata": {},
   "outputs": [
    {
     "name": "stdout",
     "output_type": "stream",
     "text": [
      "\u001b[1m4/4\u001b[0m \u001b[32m━━━━━━━━━━━━━━━━━━━━\u001b[0m\u001b[37m\u001b[0m \u001b[1m1s\u001b[0m 309ms/step - loss: 99823534080.0000 - mae: 214150.5781 \n",
      "Test Loss: 99823534080.00\n",
      "Test MAE: 214150.58\n"
     ]
    }
   ],
   "source": [
    "loss, mae = model.evaluate([X_image_test, X_table_test], y_test)\n",
    "\n",
    "print(f\"Test Loss: {loss:.2f}\")\n",
    "print(f\"Test MAE: {mae:.2f}\")"
   ]
  }
 ],
 "metadata": {
  "kernelspec": {
   "display_name": "Python 3",
   "language": "python",
   "name": "python3"
  },
  "language_info": {
   "codemirror_mode": {
    "name": "ipython",
    "version": 3
   },
   "file_extension": ".py",
   "mimetype": "text/x-python",
   "name": "python",
   "nbconvert_exporter": "python",
   "pygments_lexer": "ipython3",
   "version": "3.12.10"
  }
 },
 "nbformat": 4,
 "nbformat_minor": 5
}
