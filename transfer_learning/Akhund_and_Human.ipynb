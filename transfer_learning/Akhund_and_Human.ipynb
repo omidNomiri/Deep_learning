{
  "cells": [
    {
      "cell_type": "code",
      "execution_count": null,
      "metadata": {
        "id": "FW-CBtXgd2Qq"
      },
      "outputs": [],
      "source": [
        "import numpy as np\n",
        "import matplotlib.pyplot as plt\n",
        "from tensorflow.keras.preprocessing.image import ImageDataGenerator\n",
        "from tensorflow.keras.applications import MobileNetV2\n",
        "from tensorflow.keras.models import Sequential\n",
        "from tensorflow.keras.layers import Dense, Dropout, GlobalAveragePooling2D\n",
        "from tensorflow.keras.callbacks import EarlyStopping, ReduceLROnPlateau\n",
        "from sklearn.metrics import confusion_matrix\n",
        "import itertools"
      ]
    },
    {
      "cell_type": "code",
      "execution_count": 2,
      "metadata": {
        "colab": {
          "base_uri": "https://localhost:8080/"
        },
        "id": "wmCm1tQZM_L5",
        "outputId": "0939f10e-9095-499a-e7df-75ddee8e2f2f"
      },
      "outputs": [
        {
          "name": "stdout",
          "output_type": "stream",
          "text": [
            "Mounted at /content/drive\n"
          ]
        }
      ],
      "source": [
        "from google.colab import drive\n",
        "drive.mount('/content/drive')\n",
        "data_dir = '/content/drive/MyDrive/Akhund-and-Human'"
      ]
    },
    {
      "cell_type": "code",
      "execution_count": 7,
      "metadata": {
        "colab": {
          "base_uri": "https://localhost:8080/"
        },
        "id": "y9KzlZVad-uQ",
        "outputId": "f3ea0100-1a65-45b1-b279-4c1c4f7904d8"
      },
      "outputs": [
        {
          "name": "stdout",
          "output_type": "stream",
          "text": [
            "Found 421 images belonging to 2 classes.\n",
            "Found 45 images belonging to 2 classes.\n"
          ]
        }
      ],
      "source": [
        "train_datagenerator = ImageDataGenerator(\n",
        "    rescale=1./255,\n",
        "    zoom_range=.05,\n",
        "    horizontal_flip=True,\n",
        "    validation_split=0.1)\n",
        "\n",
        "train_generator = train_datagenerator.flow_from_directory(\n",
        "    data_dir,\n",
        "    class_mode = 'categorical',\n",
        "    target_size=(224, 224),\n",
        "    batch_size=32,\n",
        "    subset = 'training')\n",
        "\n",
        "validation_generator = train_datagenerator.flow_from_directory(\n",
        "    data_dir,\n",
        "    class_mode='categorical',\n",
        "    target_size=(224, 224),\n",
        "    batch_size=32,\n",
        "    subset='validation')"
      ]
    },
    {
      "cell_type": "code",
      "execution_count": 8,
      "metadata": {
        "id": "2PGZ5LeYevxY"
      },
      "outputs": [],
      "source": [
        "labels = [\"akhund\", \"human\"]\n",
        "\n",
        "base_model = MobileNetV2(weights='imagenet', include_top=False, input_shape=(224,224,3))\n",
        "for layer in base_model.layers:\n",
        "    layer.trainable = False\n",
        "\n",
        "model = Sequential([\n",
        "    base_model,\n",
        "    GlobalAveragePooling2D(),\n",
        "    Dropout(0.3),\n",
        "    Dense(len(labels), activation='softmax')])\n",
        "\n",
        "model.compile(optimizer='adam', loss='categorical_crossentropy', metrics=['accuracy'])"
      ]
    },
    {
      "cell_type": "code",
      "execution_count": 9,
      "metadata": {
        "id": "Y45Oti5ze0yv"
      },
      "outputs": [],
      "source": [
        "callbacks = [EarlyStopping(patience=5, restore_best_weights=True),\n",
        "            ReduceLROnPlateau(patience=3, factor=0.5)]"
      ]
    },
    {
      "cell_type": "code",
      "execution_count": 10,
      "metadata": {
        "colab": {
          "base_uri": "https://localhost:8080/"
        },
        "id": "hRZY_xnYe2QG",
        "outputId": "9a7745e2-2aa4-4354-ba7c-ae21cec7926b"
      },
      "outputs": [
        {
          "name": "stdout",
          "output_type": "stream",
          "text": [
            "Epoch 1/35\n",
            "\u001b[1m14/14\u001b[0m \u001b[32m━━━━━━━━━━━━━━━━━━━━\u001b[0m\u001b[37m\u001b[0m \u001b[1m276s\u001b[0m 19s/step - accuracy: 0.5765 - loss: 0.7854 - val_accuracy: 0.7556 - val_loss: 0.4603 - learning_rate: 0.0010\n",
            "Epoch 2/35\n",
            "\u001b[1m14/14\u001b[0m \u001b[32m━━━━━━━━━━━━━━━━━━━━\u001b[0m\u001b[37m\u001b[0m \u001b[1m59s\u001b[0m 634ms/step - accuracy: 0.8257 - loss: 0.4088 - val_accuracy: 0.8667 - val_loss: 0.3508 - learning_rate: 0.0010\n",
            "Epoch 3/35\n",
            "\u001b[1m14/14\u001b[0m \u001b[32m━━━━━━━━━━━━━━━━━━━━\u001b[0m\u001b[37m\u001b[0m \u001b[1m10s\u001b[0m 594ms/step - accuracy: 0.8847 - loss: 0.2888 - val_accuracy: 0.8889 - val_loss: 0.2941 - learning_rate: 0.0010\n",
            "Epoch 4/35\n",
            "\u001b[1m14/14\u001b[0m \u001b[32m━━━━━━━━━━━━━━━━━━━━\u001b[0m\u001b[37m\u001b[0m \u001b[1m10s\u001b[0m 548ms/step - accuracy: 0.9147 - loss: 0.2341 - val_accuracy: 0.8444 - val_loss: 0.2695 - learning_rate: 0.0010\n",
            "Epoch 5/35\n",
            "\u001b[1m14/14\u001b[0m \u001b[32m━━━━━━━━━━━━━━━━━━━━\u001b[0m\u001b[37m\u001b[0m \u001b[1m9s\u001b[0m 657ms/step - accuracy: 0.9275 - loss: 0.1930 - val_accuracy: 0.8222 - val_loss: 0.3460 - learning_rate: 0.0010\n",
            "Epoch 6/35\n",
            "\u001b[1m14/14\u001b[0m \u001b[32m━━━━━━━━━━━━━━━━━━━━\u001b[0m\u001b[37m\u001b[0m \u001b[1m9s\u001b[0m 628ms/step - accuracy: 0.9195 - loss: 0.2119 - val_accuracy: 0.8667 - val_loss: 0.2421 - learning_rate: 0.0010\n",
            "Epoch 7/35\n",
            "\u001b[1m14/14\u001b[0m \u001b[32m━━━━━━━━━━━━━━━━━━━━\u001b[0m\u001b[37m\u001b[0m \u001b[1m11s\u001b[0m 674ms/step - accuracy: 0.9319 - loss: 0.1780 - val_accuracy: 0.8667 - val_loss: 0.2626 - learning_rate: 0.0010\n",
            "Epoch 8/35\n",
            "\u001b[1m14/14\u001b[0m \u001b[32m━━━━━━━━━━━━━━━━━━━━\u001b[0m\u001b[37m\u001b[0m \u001b[1m9s\u001b[0m 557ms/step - accuracy: 0.9725 - loss: 0.1075 - val_accuracy: 0.8444 - val_loss: 0.3106 - learning_rate: 0.0010\n",
            "Epoch 9/35\n",
            "\u001b[1m14/14\u001b[0m \u001b[32m━━━━━━━━━━━━━━━━━━━━\u001b[0m\u001b[37m\u001b[0m \u001b[1m9s\u001b[0m 631ms/step - accuracy: 0.9771 - loss: 0.1027 - val_accuracy: 0.9111 - val_loss: 0.2362 - learning_rate: 0.0010\n",
            "Epoch 10/35\n",
            "\u001b[1m14/14\u001b[0m \u001b[32m━━━━━━━━━━━━━━━━━━━━\u001b[0m\u001b[37m\u001b[0m \u001b[1m8s\u001b[0m 561ms/step - accuracy: 0.9701 - loss: 0.1073 - val_accuracy: 0.8222 - val_loss: 0.3288 - learning_rate: 0.0010\n",
            "Epoch 11/35\n",
            "\u001b[1m14/14\u001b[0m \u001b[32m━━━━━━━━━━━━━━━━━━━━\u001b[0m\u001b[37m\u001b[0m \u001b[1m9s\u001b[0m 598ms/step - accuracy: 0.9642 - loss: 0.1190 - val_accuracy: 0.8667 - val_loss: 0.2566 - learning_rate: 0.0010\n",
            "Epoch 12/35\n",
            "\u001b[1m14/14\u001b[0m \u001b[32m━━━━━━━━━━━━━━━━━━━━\u001b[0m\u001b[37m\u001b[0m \u001b[1m9s\u001b[0m 622ms/step - accuracy: 0.9594 - loss: 0.1038 - val_accuracy: 0.9111 - val_loss: 0.2264 - learning_rate: 0.0010\n",
            "Epoch 13/35\n",
            "\u001b[1m14/14\u001b[0m \u001b[32m━━━━━━━━━━━━━━━━━━━━\u001b[0m\u001b[37m\u001b[0m \u001b[1m8s\u001b[0m 553ms/step - accuracy: 0.9675 - loss: 0.0919 - val_accuracy: 0.8667 - val_loss: 0.2247 - learning_rate: 0.0010\n",
            "Epoch 14/35\n",
            "\u001b[1m14/14\u001b[0m \u001b[32m━━━━━━━━━━━━━━━━━━━━\u001b[0m\u001b[37m\u001b[0m \u001b[1m9s\u001b[0m 626ms/step - accuracy: 0.9699 - loss: 0.0918 - val_accuracy: 0.8444 - val_loss: 0.2739 - learning_rate: 0.0010\n",
            "Epoch 15/35\n",
            "\u001b[1m14/14\u001b[0m \u001b[32m━━━━━━━━━━━━━━━━━━━━\u001b[0m\u001b[37m\u001b[0m \u001b[1m9s\u001b[0m 631ms/step - accuracy: 0.9738 - loss: 0.0869 - val_accuracy: 0.8444 - val_loss: 0.2452 - learning_rate: 0.0010\n",
            "Epoch 16/35\n",
            "\u001b[1m14/14\u001b[0m \u001b[32m━━━━━━━━━━━━━━━━━━━━\u001b[0m\u001b[37m\u001b[0m \u001b[1m8s\u001b[0m 579ms/step - accuracy: 0.9864 - loss: 0.0771 - val_accuracy: 0.8889 - val_loss: 0.2399 - learning_rate: 0.0010\n",
            "Epoch 17/35\n",
            "\u001b[1m14/14\u001b[0m \u001b[32m━━━━━━━━━━━━━━━━━━━━\u001b[0m\u001b[37m\u001b[0m \u001b[1m9s\u001b[0m 666ms/step - accuracy: 0.9582 - loss: 0.0860 - val_accuracy: 0.8667 - val_loss: 0.2578 - learning_rate: 5.0000e-04\n",
            "Epoch 18/35\n",
            "\u001b[1m14/14\u001b[0m \u001b[32m━━━━━━━━━━━━━━━━━━━━\u001b[0m\u001b[37m\u001b[0m \u001b[1m9s\u001b[0m 610ms/step - accuracy: 0.9818 - loss: 0.0716 - val_accuracy: 0.8667 - val_loss: 0.3029 - learning_rate: 5.0000e-04\n"
          ]
        }
      ],
      "source": [
        "history = model.fit(train_generator, validation_data=validation_generator, epochs=35, callbacks=callbacks)"
      ]
    },
    {
      "cell_type": "code",
      "execution_count": 13,
      "metadata": {
        "colab": {
          "base_uri": "https://localhost:8080/",
          "height": 473
        },
        "id": "sqgjJhrbezdO",
        "outputId": "9c9b3f10-d82d-4e5c-a29f-fa9d397bf2fc"
      },
      "outputs": [
        {
          "name": "stdout",
          "output_type": "stream",
          "text": [
            "\u001b[1m2/2\u001b[0m \u001b[32m━━━━━━━━━━━━━━━━━━━━\u001b[0m\u001b[37m\u001b[0m \u001b[1m1s\u001b[0m 206ms/step\n"
          ]
        },
        {
          "data": {
            "image/png": "[encoded data removed]",
            "text/plain": [
              "<Figure size 600x500 with 2 Axes>"
            ]
          },
          "metadata": {},
          "output_type": "display_data"
        }
      ],
      "source": [
        "y_pred = np.argmax(model.predict(validation_generator), axis=1)\n",
        "cm = confusion_matrix(validation_generator.classes, y_pred)\n",
        "\n",
        "plt.figure(figsize=(6,5))\n",
        "plt.imshow(cm, cmap=\"Blues\")\n",
        "plt.xticks(range(len(labels)), labels)\n",
        "plt.yticks(range(len(labels)), labels)\n",
        "plt.title(\"Confusion Matrix\")\n",
        "for i, j in itertools.product(range(cm.shape[0]), range(cm.shape[1])):\n",
        "    plt.text(j, i, cm[i,j], ha=\"center\", va=\"center\", color=\"black\")\n",
        "plt.colorbar()\n",
        "plt.show()"
      ]
    }
  ],
  "metadata": {
    "accelerator": "GPU",
    "colab": {
      "gpuType": "T4",
      "provenance": []
    },
    "kernelspec": {
      "display_name": "Python 3",
      "name": "python3"
    },
    "language_info": {
      "codemirror_mode": {
        "name": "ipython",
        "version": 3
      },
      "file_extension": ".py",
      "mimetype": "text/x-python",
      "name": "python",
      "nbconvert_exporter": "python",
      "pygments_lexer": "ipython3",
      "version": "3.12.10"
    }
  },
  "nbformat": 4,
  "nbformat_minor": 0
}
