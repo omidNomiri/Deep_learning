{
  "cells": [
    {
      "cell_type": "code",
      "execution_count": 20,
      "metadata": {
        "id": "FSs62U3FqJ6m"
      },
      "outputs": [],
      "source": [
        "from keras.datasets import cifar10, cifar100, mnist, fashion_mnist\n",
        "from keras.models import Sequential\n",
        "from keras.layers import Dense, Conv2D, MaxPooling2D, Flatten\n",
        "from keras.optimizers import Adam\n",
        "from keras.losses import sparse_categorical_crossentropy\n",
        "from keras.layers import Input"
      ]
    },
    {
      "cell_type": "code",
      "execution_count": 21,
      "metadata": {
        "id": "p2S2Jha6qJ6n"
      },
      "outputs": [],
      "source": [
        "EPOCHS = 10"
      ]
    },
    {
      "cell_type": "code",
      "execution_count": 22,
      "metadata": {
        "id": "017zNcNaqJ6o"
      },
      "outputs": [],
      "source": [
        "def load_and_normalize_data(dataset_loader):\n",
        "    (x_train, y_train), (x_test, y_test) = dataset_loader()\n",
        "    x_train, x_test = x_train / 255.0, x_test / 255.0\n",
        "    if len(x_train.shape) == 3:\n",
        "        x_train = x_train[..., None]\n",
        "        x_test = x_test[..., None]\n",
        "    return (x_train, y_train), (x_test, y_test)"
      ]
    },
    {
      "cell_type": "code",
      "execution_count": 23,
      "metadata": {
        "id": "GJtyEGB9qJ6o"
      },
      "outputs": [],
      "source": [
        "def create_mlp_model(input_shape, num_classes):\n",
        "    model = Sequential([\n",
        "        Flatten(input_shape=input_shape),\n",
        "        Dense(128, activation='relu'),\n",
        "        Dense(num_classes, activation='softmax')\n",
        "    ])\n",
        "    model.compile(optimizer=Adam(), loss=sparse_categorical_crossentropy, metrics=['accuracy'])\n",
        "    return model"
      ]
    },
    {
      "cell_type": "code",
      "execution_count": 24,
      "metadata": {
        "id": "k-4vc7d9qJ6o"
      },
      "outputs": [],
      "source": [
        "def create_mlp_cnn_model(input_shape, num_classes):\n",
        "    model = Sequential([\n",
        "        Input(shape=input_shape),\n",
        "        Conv2D(32, (3, 3), activation='relu'),\n",
        "        MaxPooling2D(),\n",
        "        Flatten(),\n",
        "        Dense(128, activation='relu'),\n",
        "        Dense(num_classes, activation='softmax')\n",
        "    ])\n",
        "    model.compile(optimizer=Adam(), loss=sparse_categorical_crossentropy, metrics=['accuracy'])\n",
        "    return model"
      ]
    },
    {
      "cell_type": "code",
      "execution_count": 25,
      "metadata": {
        "id": "si_PDhclqJ6o"
      },
      "outputs": [],
      "source": [
        "def train_and_evaluate(model, x_train, y_train, x_test, y_test, dataset_name, model_type):\n",
        "    print(f\"{dataset_name} Dataset With {model_type} With {EPOCHS} Epochs\")\n",
        "\n",
        "    history = model.fit(x_train, y_train, epochs=EPOCHS, verbose=0)\n",
        "\n",
        "    test_loss, test_accuracy = model.evaluate(x_test, y_test, verbose=0)\n",
        "\n",
        "    final_train_accuracy = history.history['accuracy'][-1]\n",
        "    final_train_loss = history.history['loss'][-1]\n",
        "\n",
        "    print(f\"Final Train Accuracy: {final_train_accuracy:.4f}, Final Train Loss: {final_train_loss:.4f}\")\n",
        "    print(f\"Final Test Accuracy: {test_accuracy:.4f}, Final Test Loss: {test_loss:.4f}\\n\")"
      ]
    },
    {
      "cell_type": "code",
      "execution_count": 26,
      "metadata": {
        "colab": {
          "base_uri": "https://localhost:8080/"
        },
        "id": "uupJg52EqJ6o",
        "outputId": "e8244311-4b49-4fc2-fe05-1dcdf0a03e08"
      },
      "outputs": [
        {
          "output_type": "stream",
          "name": "stdout",
          "text": [
            "MNIST Dataset With MLP With 10 Epochs\n",
            "Final Train Accuracy: 0.9949, Final Train Loss: 0.0155\n",
            "Final Test Accuracy: 0.9784, Final Test Loss: 0.0807\n",
            "\n",
            "MNIST Dataset With MLP+CNN With 10 Epochs\n",
            "Final Train Accuracy: 0.9979, Final Train Loss: 0.0061\n",
            "Final Test Accuracy: 0.9882, Final Test Loss: 0.0518\n",
            "\n",
            "Fashion MNIST Dataset With MLP With 10 Epochs\n",
            "Final Train Accuracy: 0.9092, Final Train Loss: 0.2423\n",
            "Final Test Accuracy: 0.8763, Final Test Loss: 0.3558\n",
            "\n",
            "Fashion MNIST Dataset With MLP+CNN With 10 Epochs\n",
            "Final Train Accuracy: 0.9720, Final Train Loss: 0.0754\n",
            "Final Test Accuracy: 0.9169, Final Test Loss: 0.3068\n",
            "\n",
            "CIFAR-10 Dataset With MLP With 10 Epochs\n",
            "Final Train Accuracy: 0.4161, Final Train Loss: 1.6380\n",
            "Final Test Accuracy: 0.4140, Final Test Loss: 1.6563\n",
            "\n",
            "CIFAR-10 Dataset With MLP+CNN With 10 Epochs\n",
            "Final Train Accuracy: 0.7290, Final Train Loss: 0.7772\n",
            "Final Test Accuracy: 0.6385, Final Test Loss: 1.0649\n",
            "\n",
            "CIFAR-100 Dataset With MLP With 10 Epochs\n",
            "Final Train Accuracy: 0.1055, Final Train Loss: 3.8479\n",
            "Final Test Accuracy: 0.1042, Final Test Loss: 3.8846\n",
            "\n",
            "CIFAR-100 Dataset With MLP+CNN With 10 Epochs\n",
            "Final Train Accuracy: 0.4540, Final Train Loss: 2.0661\n",
            "Final Test Accuracy: 0.3208, Final Test Loss: 2.8402\n",
            "\n"
          ]
        }
      ],
      "source": [
        "datasets = {\n",
        "    \"MNIST\": (mnist.load_data, (28, 28, 1), 10),\n",
        "    \"Fashion MNIST\": (fashion_mnist.load_data, (28, 28, 1), 10),\n",
        "    \"CIFAR-10\": (cifar10.load_data, (32, 32, 3), 10),\n",
        "    \"CIFAR-100\": (cifar100.load_data, (32, 32, 3), 100)\n",
        "}\n",
        "\n",
        "for dataset_name, (dataset_loader, input_shape, num_classes) in datasets.items():\n",
        "    (x_train, y_train), (x_test, y_test) = load_and_normalize_data(dataset_loader)\n",
        "\n",
        "    mlp_model = create_mlp_model(input_shape, num_classes)\n",
        "    train_and_evaluate(mlp_model, x_train, y_train, x_test, y_test, dataset_name, \"MLP\")\n",
        "\n",
        "    mlp_cnn_model = create_mlp_cnn_model(input_shape, num_classes)\n",
        "    train_and_evaluate(mlp_cnn_model, x_train, y_train, x_test, y_test, dataset_name, \"MLP+CNN\")"
      ]
    }
  ],
  "metadata": {
    "colab": {
      "provenance": []
    },
    "kernelspec": {
      "display_name": "Python 3",
      "language": "python",
      "name": "python3"
    },
    "language_info": {
      "codemirror_mode": {
        "name": "ipython",
        "version": 3
      },
      "file_extension": ".py",
      "mimetype": "text/x-python",
      "name": "python",
      "nbconvert_exporter": "python",
      "pygments_lexer": "ipython3",
      "version": "3.11.7"
    }
  },
  "nbformat": 4,
  "nbformat_minor": 0
}